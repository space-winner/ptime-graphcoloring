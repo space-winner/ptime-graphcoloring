# Importing standard Qiskit libraries
from qiskit import QuantumCircuit, transpile
from qiskit.tools.jupyter import *
from qiskit.visualization import *
from ibm_quantum_widgets import *

#running imports
get_ipython().run_line_magic('qiskit_version_table', "")
get_ipython().run_line_magic('qiskit_copyright', "")
get_ipython().run_line_magic('matplotlib', 'inline')
from qiskit import Aer
from qiskit.providers.aer import AerError, QasmSimulator
#Troubleshooting imports
from qiskit import QuantumRegister, ClassicalRegister, QuantumCircuit
from qiskit import Aer, transpile
from qiskit import execute
from qiskit.tools.visualization import plot_histogram, plot_state_city
import qiskit.quantum_info as qi
#graph theory lib imports
import networkx as nx
import mathplotlib
import itertools
from itertools import combinations
# qiskit-ibmq-provider has been deprecated.
# Please see the Migration Guides in https://ibm.biz/provider_migration_guide for more detail.
from qiskit_ibm_runtime import QiskitRuntimeService, Sampler, Estimator, Session, Options

# Loading your IBM Quantum account(s)
service = QiskitRuntimeService(channel="ibm_quantum")

# Invoke a primitive. For more details see https://qiskit.org/documentation/partners/qiskit_ibm_runtime/tutorials.html
# result = Sampler("ibmq_qasm_simulator").run(circuits).result()

#########

#backend_sim = Aer.get_backend('statevector_simulator')
#backend_sim = Aer.get_backend('extended_stabilizer')
backend_sim = Aer.get_backend('qasm_simulator')
#Assumption that it is a simple undirected graph... perhaps enter number of nodes and colors from user?
# Input the number of nodes and colors from the user
nNodes = int(input("Enter the number of nodes: "))

# Create an empty graph
G = nx.Graph()

# Input the edges from the user
print("Enter the edges as pairs of nodes (e.g., '0 1', '1 2'). Enter 'q' to finish.")
while True:
    edge_input = input("Enter an edge (or 'q' to finish): ")
    if edge_input == 'q':
        break
    u, v = map(int, edge_input.split())
    G.add_edge(u, v)

#graph is stored properly
nx.draw(G)

# Calculate the chromatic number through greedy approximation
chromatic_number = nx.coloring.greedy_color(G, strategy="largest_first")
chromatic_number = max(chromatic_number.values()) + 1
nColors = chromatic_number  # Set the number of colors to the chromatic number

nc = nColors + 1
nn2 = round((nNodes - 1) * nNodes / 2)
sc = round(nc * nNodes)
sg = round(nc * nNodes + nn2)
nqbits = sc + 2 * nn2

# Create a Quantum Circuit
q = QuantumRegister(nqbits)
c = ClassicalRegister(nColors * nNodes)
qc = QuantumCircuit(q, c)

# Encode the graph edges as constraints
for u, v in G.edges():
    for k in range(nColors):
        u_color_bit = u * (nColors + 1) + k
        v_color_bit = v * (nColors + 1) + k
        qc.cx(q[u_color_bit], q[v_color_bit])

# Add the graph (binary list of nNodes*(nNodes-1)/2 elements, because the graph is symmetric
# and there is no i=>i edges. Set to |1> the qubits corresponding to an edge.
# Complete graph, for test
for n in range(nNodes):
    qc.x(sg+n)
# ----------------------------------------Generate a coloring matrix
# Initialisation
# Hadamard gate for qubits that represent the coloring matrix
s=0
for n in range(nNodes):
    for k in range(nColors):
        qc.h(s+k)
    s=s+nc
#-----------------------------
# Constraints
# A 1 and only one 1 in each of the coloring matrix
s=0
for n in range(nNodes):
    for k in range(nColors-1):
        for l in range(k+1,nColors):
            # Eliminate 11
            qc.ccx (s+k,s+l,s+nColors)
            qc.cx (s+nColors,s+k)
            qc.reset(s+nColors)
    # Eliminate 0* (no color assigned to the node n)
    for k in range(nColors): qc.x(s+k) # if 0 => 1. Not needed if you can use
    # a negative multicontrolled gate
    cb=list(range(s,s+nColors) )
    qc.mcx (cb,s+nColors)
    for k in range(nColors): qc.x(s+k) # if 1 => 0
    qc.cx (s+nColors,s+nColors-1)
    qc.reset(s+nColors)
    s=s+nc
# At this point, if we measure, we find coloring matrices (nNodes lines, nColors columns),
# one and only one 1 in each line (a node does have a color, and only one)
print('end of coloring matrices')
# Switch the ancillary qubits corresponding to pairs of nodes that have the same color
for k in range(nColors):
    s=nc*nNodes
    for n1 in range(nNodes-1):
        for n2 in range(n1+1,nNodes):
            n11=nc*n1+k # If q[n11]=|1> it means the node n1 has the color k
            n22=nc*n2+k # If q[n22]=|1> it means the node n2 has the color k
            qc.ccx(n11,n22,s) # If same color k, set s to |1>. Notice it can happens
            # at most for one k
            s=s+1
#print([n11,n22])
# At this point, if we measure the (nNodes-1)*nNodes)/2 ancillary qubits,
# we get binary strings,
# in which 1 means "same color" for n1 and n2
print('end of pairs of nodes')
# Compare to the graph.
for n in range(sc,sc+nn2): # For each pair of nodes
    # If same color and there is an edge "destroy" (set to |0*>) the coloring
    for node in range(nNodes):
        qnode=nc*node
        qnc=qnode+nColors
        for k in range(nColors):
            cb=[n,n+nn2,qnode+k]
            qc.mcx (cb,qnc)
            cb=[n,n+nn2,qnc]
            qc.mcx (cb,qnode+k)
            qc.reset(qnc)
print('end of compare to graph')
# Measure (only the qubits describing the coloring matrices)
cb=0
for n in range(nNodes):
    s=n*(nColors+1)
    for k in range(nColors):
        qb=s+k
        qc.measure(qb,cb)
        cb=cb+1
print('end of measures')
print(qc)
d=qc.depth()
print("Circuit depth: ",d)
print("Circuit width: ",nqbits)
print("Complexity: ",d*nqbits)
# Execute the circuit on a statevector simulator
#job = execute(qc, backend_state,shots=1000)
# Execute the circuit on the qasm simulator.
# Quick on small graphs, but memory error for 4 nodes, 3 colors
job = execute(qc, Aer.get_backend('qasm_simulator'), shots=100)
# This method should handle more qubits, but is awfully slow
#qobj = assemble(qc, backend=QasmSimulator(), shots=1000)
#job = QasmSimulator().run(qobj, backend_options={'method': 'extended_stabilizer'})
result=job.result()
#print(result)
print('end of execute')
# Grab the results from the job.
counts = result.get_counts() # result.get_counts(qc)
# After obtaining the measurement results, you can process them
# and convert to classical colorings
valid_colorings = []

def is_valid_coloring(G, coloring):
    for node in G.nodes():
        neighbors = list(G.neighbors(node))  # Convert neighbors to a list
        if node in coloring:
            node_color = coloring[node]
            for neighbor in neighbors:
                if neighbor in coloring and node_color == coloring[neighbor]:
                    return False
    return True

# Function to convert quantum measurement results to classical colorings
def convert_quantum_result_to_coloring(result):
    coloring = {}  # Initialize an empty coloring dictionary
    bitstring = result[::-1]  # Reverse the result as qubit order is usually reversed
    
    for node in range(nNodes):
        # Extract the bits corresponding to the colors for each node
        color_bits = bitstring[node * nColors: (node + 1) * nColors]

        # Find the position of the first '1' in the color_bits
        color_index = color_bits.find('1')

        if color_index != -1:
            # If '1' is found, assign the color to the node
            coloring[node] = color_index

    return coloring

for result in counts:
    coloring = convert_quantum_result_to_coloring(result)
    
    # Check if it's a valid coloring using NetworkX
    if is_valid_coloring(G, coloring):
        valid_colorings.append(coloring)

# Further post-processing

    # Iterate through the valid colorings and perform post-processing
for valid_coloring in valid_colorings:
        # You can refine the valid coloring or check for optimality
        # by iterating through different color assignments
    print("Optimal Coloring:", valid_coloring)
            
    # You can also check for the chromatic number to compare with the result
    #chromatic_number = max(len(set(coloring.values())) for coloring in valid_colorings)
    #print("Chromatic Number:", chromatic_number)

print(counts)

print('The solutions, if any, are given by the strings that are not 0*')
if nColors>2:
    print('Please check: some of them may be a coloring with LESS colours')
print('You can rebuild the color matrix by reading the string from right to left')
print('(each row has ',nColors,' bits)')
